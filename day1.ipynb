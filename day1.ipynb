{
 "cells": [
  {
   "cell_type": "code",
   "execution_count": 1,
   "id": "258f21c9-e628-4655-9b16-ce485b3e4a5e",
   "metadata": {},
   "outputs": [],
   "source": [
    "test = \"\"\"1abc2\n",
    "pqr3stu8vwx\n",
    "a1b2c3d4e5f\n",
    "treb7uchet\"\"\""
   ]
  },
  {
   "cell_type": "code",
   "execution_count": 2,
   "id": "42d067ca-a572-41fd-88bd-6f1b47903205",
   "metadata": {},
   "outputs": [],
   "source": [
    "def parse_text(line):\n",
    "    digits_only = []\n",
    "    for char in line:\n",
    "        if char in '0123456789':\n",
    "            digits_only.append(char)\n",
    "    return ''.join(digits_only)"
   ]
  },
  {
   "cell_type": "code",
   "execution_count": 3,
   "id": "0797601f-9256-4f71-97b0-d0337cb8eea6",
   "metadata": {},
   "outputs": [],
   "source": [
    "def get_calibration_value(digits):\n",
    "    return digits[0]+digits[-1]\n",
    "    "
   ]
  },
  {
   "cell_type": "code",
   "execution_count": 4,
   "id": "1da082e9-00be-4cf0-992a-655a96fe2696",
   "metadata": {},
   "outputs": [],
   "source": [
    "def parse_line(line):\n",
    "    return get_calibration_value(parse_text(line))"
   ]
  },
  {
   "cell_type": "code",
   "execution_count": 5,
   "id": "6a5caa66-f851-42ad-9750-131b4b5a22ef",
   "metadata": {},
   "outputs": [
    {
     "name": "stdout",
     "output_type": "stream",
     "text": [
      "142\n"
     ]
    }
   ],
   "source": [
    "all_values = []\n",
    "for line in test.splitlines():\n",
    "    value = parse_line(line)\n",
    "    all_values.append(int(value))\n",
    "print(sum(all_values))"
   ]
  },
  {
   "cell_type": "code",
   "execution_count": 6,
   "id": "aa34f6b4-cbb2-4095-a279-e427116aa890",
   "metadata": {},
   "outputs": [
    {
     "name": "stdout",
     "output_type": "stream",
     "text": [
      "54630\n"
     ]
    }
   ],
   "source": [
    "all_values = []\n",
    "with open('day1.txt') as file:\n",
    "    for line in file.readlines():\n",
    "        value = parse_line(line)\n",
    "        all_values.append(int(value))\n",
    "print(sum(all_values))"
   ]
  },
  {
   "cell_type": "code",
   "execution_count": 7,
   "id": "3a46c7e4-b7d4-41b2-ba01-74deb85c7c25",
   "metadata": {},
   "outputs": [],
   "source": [
    "# PART 2 #"
   ]
  },
  {
   "cell_type": "code",
   "execution_count": 8,
   "id": "65f4300e-2a7c-4372-b2c5-2b7e14510efc",
   "metadata": {},
   "outputs": [],
   "source": [
    "test = \"\"\"two1nine\n",
    "eightwothree\n",
    "abcone2threexyz\n",
    "xtwone3four\n",
    "4nineeightseven2\n",
    "zoneight234\n",
    "7pqrstsixteen\"\"\""
   ]
  },
  {
   "cell_type": "code",
   "execution_count": 26,
   "id": "19a5b07b-6df6-47c2-b0a8-4aa40ff6bc76",
   "metadata": {},
   "outputs": [
    {
     "data": {
      "text/plain": [
       "'9qzbqxmq1onefiveknrnzpxon8rq'"
      ]
     },
     "execution_count": 26,
     "metadata": {},
     "output_type": "execute_result"
    }
   ],
   "source": [
    "digit_words = [\"zero\", \"one\", \"two\", \"three\", \"four\", \"five\", \"six\", \"seven\", \"eight\", \"nine\"]\n",
    "\n",
    "def change_digwords(line):\n",
    "    first = None\n",
    "    last = None\n",
    "    for i in range(len(line)+1):\n",
    "        for word in digit_words:\n",
    "            if line[0:i+1].endswith(word):\n",
    "                last = word\n",
    "                if first == None: first = last\n",
    "#        print(line[0:i])\n",
    "#    print(first + \" \" + last)\n",
    "    if first is not None:\n",
    "        line = line.replace(first, str(digit_words.index(first)) + first, 1)        # number + string cause we can change begining of the last word \"eigh[t]wo\"\n",
    "        line = line.replace(last, str(digit_words.index(last)))\n",
    "    return line\n",
    "    \n",
    "change_digwords(\"9qzbqxmqonefiveknrnzpxoneightrq\")"
   ]
  },
  {
   "cell_type": "code",
   "execution_count": 20,
   "id": "c5e356c9-d9d4-4ff3-a773-0c3726ba9d41",
   "metadata": {},
   "outputs": [
    {
     "data": {
      "text/plain": [
       "'91'"
      ]
     },
     "execution_count": 20,
     "metadata": {},
     "output_type": "execute_result"
    }
   ],
   "source": [
    "def parse_line_with_digit_words(line):\n",
    "    return ( parse_line(change_digwords(line)))\n",
    "parse_line_with_digit_words('9qzbqxmqonefiveknrnzpxoneightrq')"
   ]
  },
  {
   "cell_type": "code",
   "execution_count": 11,
   "id": "0e456cc8-6301-4e3f-8bb0-333f159b850c",
   "metadata": {},
   "outputs": [
    {
     "name": "stdout",
     "output_type": "stream",
     "text": [
      "29\n",
      "83\n",
      "13\n",
      "24\n",
      "42\n",
      "14\n",
      "76\n"
     ]
    }
   ],
   "source": [
    "for line in test.splitlines():\n",
    "    print(parse_line_with_digit_words(line))"
   ]
  },
  {
   "cell_type": "code",
   "execution_count": 12,
   "id": "49601f9c-24f5-4ba2-86a9-cea0456f8a2b",
   "metadata": {},
   "outputs": [
    {
     "name": "stdout",
     "output_type": "stream",
     "text": [
      "281\n"
     ]
    }
   ],
   "source": [
    "all_values = []\n",
    "for line in test.splitlines():\n",
    "    value = parse_line_with_digit_words(line)\n",
    "    all_values.append(int(value))\n",
    "print(sum(all_values))"
   ]
  },
  {
   "cell_type": "code",
   "execution_count": 28,
   "id": "327073fe-8f86-4d85-b5d3-c0dc87b97648",
   "metadata": {},
   "outputs": [
    {
     "name": "stdout",
     "output_type": "stream",
     "text": [
      "54770\n"
     ]
    }
   ],
   "source": [
    "all_values = []\n",
    "with open('day1.txt') as file:\n",
    "    for line in file.readlines():\n",
    "        value = parse_line_with_digit_words(line)\n",
    "        all_values.append(int(value))\n",
    "print(sum(all_values))"
   ]
  }
 ],
 "metadata": {
  "kernelspec": {
   "display_name": "Python 3 (ipykernel)",
   "language": "python",
   "name": "python3"
  },
  "language_info": {
   "codemirror_mode": {
    "name": "ipython",
    "version": 3
   },
   "file_extension": ".py",
   "mimetype": "text/x-python",
   "name": "python",
   "nbconvert_exporter": "python",
   "pygments_lexer": "ipython3",
   "version": "3.12.0"
  }
 },
 "nbformat": 4,
 "nbformat_minor": 5
}
