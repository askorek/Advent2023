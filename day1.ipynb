{
 "cells": [
  {
   "cell_type": "code",
   "execution_count": 1,
   "id": "258f21c9-e628-4655-9b16-ce485b3e4a5e",
   "metadata": {},
   "outputs": [],
   "source": [
    "test = \"\"\"1abc2\n",
    "pqr3stu8vwx\n",
    "a1b2c3d4e5f\n",
    "treb7uchet\"\"\""
   ]
  },
  {
   "cell_type": "code",
   "execution_count": 17,
   "id": "42d067ca-a572-41fd-88bd-6f1b47903205",
   "metadata": {},
   "outputs": [],
   "source": [
    "def parse_text(line):\n",
    "    digits_only = []\n",
    "    for char in line:\n",
    "        if char in '0123456789':\n",
    "            digits_only.append(char)\n",
    "    return ''.join(digits_only)"
   ]
  },
  {
   "cell_type": "code",
   "execution_count": 15,
   "id": "0797601f-9256-4f71-97b0-d0337cb8eea6",
   "metadata": {},
   "outputs": [],
   "source": [
    "def get_calibration_value(digits):\n",
    "    return digits[0]+digits[-1]\n",
    "    "
   ]
  },
  {
   "cell_type": "code",
   "execution_count": 18,
   "id": "1da082e9-00be-4cf0-992a-655a96fe2696",
   "metadata": {},
   "outputs": [],
   "source": [
    "def parse_line(line):\n",
    "    return get_calibration_value(parse_text(line))"
   ]
  },
  {
   "cell_type": "code",
   "execution_count": 25,
   "id": "6a5caa66-f851-42ad-9750-131b4b5a22ef",
   "metadata": {},
   "outputs": [
    {
     "name": "stdout",
     "output_type": "stream",
     "text": [
      "142\n"
     ]
    }
   ],
   "source": [
    "all_values = []\n",
    "for line in test.splitlines():\n",
    "    value = parse_line(line)\n",
    "    all_values.append(int(value))\n",
    "print(sum(all_values))"
   ]
  },
  {
   "cell_type": "code",
   "execution_count": 30,
   "id": "aa34f6b4-cbb2-4095-a279-e427116aa890",
   "metadata": {},
   "outputs": [
    {
     "name": "stdout",
     "output_type": "stream",
     "text": [
      "54630\n"
     ]
    }
   ],
   "source": [
    "all_values = []\n",
    "with open('day1.txt') as file:\n",
    "    for line in file.readlines():\n",
    "        value = parse_line(line)\n",
    "        all_values.append(int(value))\n",
    "print(sum(all_values))"
   ]
  },
  {
   "cell_type": "code",
   "execution_count": null,
   "id": "3a46c7e4-b7d4-41b2-ba01-74deb85c7c25",
   "metadata": {},
   "outputs": [],
   "source": [
    "# PART 2 #"
   ]
  },
  {
   "cell_type": "code",
   "execution_count": 3,
   "id": "65f4300e-2a7c-4372-b2c5-2b7e14510efc",
   "metadata": {},
   "outputs": [],
   "source": [
    "test = \"\"\"two1nine\n",
    "eightwothree\n",
    "abcone2threexyz\n",
    "xtwone3four\n",
    "4nineeightseven2\n",
    "zoneight234\n",
    "7pqrstsixteen\"\"\""
   ]
  },
  {
   "cell_type": "code",
   "execution_count": 3,
   "id": "19a5b07b-6df6-47c2-b0a8-4aa40ff6bc76",
   "metadata": {},
   "outputs": [],
   "source": [
    "digit_words = [\"zero\", \"one\", \"two\", \"three\", \"four\", \"five\", \"six\", \"seven\", \"eight\", \"nine\"]\n",
    "\n",
    "def change_digwords(line):\n",
    "    for i, word in enumerate(digit_words):\n",
    "        line = line.replace(word, str(i))\n",
    "    return line\n",
    "    "
   ]
  },
  {
   "cell_type": "code",
   "execution_count": 4,
   "id": "5e2dcab2-9cd4-42a6-b373-9b0f00c397f6",
   "metadata": {},
   "outputs": [
    {
     "data": {
      "text/plain": [
       "'eigh23'"
      ]
     },
     "execution_count": 4,
     "metadata": {},
     "output_type": "execute_result"
    }
   ],
   "source": [
    "change_digwords('eightwothree')"
   ]
  }
 ],
 "metadata": {
  "kernelspec": {
   "display_name": "Python 3 (ipykernel)",
   "language": "python",
   "name": "python3"
  },
  "language_info": {
   "codemirror_mode": {
    "name": "ipython",
    "version": 3
   },
   "file_extension": ".py",
   "mimetype": "text/x-python",
   "name": "python",
   "nbconvert_exporter": "python",
   "pygments_lexer": "ipython3",
   "version": "3.12.0"
  }
 },
 "nbformat": 4,
 "nbformat_minor": 5
}
