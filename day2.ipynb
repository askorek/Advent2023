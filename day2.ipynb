{
 "cells": [
  {
   "cell_type": "code",
   "execution_count": 4,
   "id": "2edac2fb-92b5-47ac-8279-0cb69ab5d08a",
   "metadata": {},
   "outputs": [],
   "source": [
    "import re"
   ]
  },
  {
   "cell_type": "code",
   "execution_count": 2,
   "id": "3610fd23-5cac-43bd-a645-27cb8d1a469f",
   "metadata": {},
   "outputs": [],
   "source": [
    "test = \"\"\"Game 1: 3 blue, 4 red; 1 red, 2 green, 6 blue; 2 green\n",
    "Game 2: 1 blue, 2 green; 3 green, 4 blue, 1 red; 1 green, 1 blue\n",
    "Game 3: 8 green, 6 blue, 20 red; 5 blue, 4 red, 13 green; 5 green, 1 red\n",
    "Game 4: 1 green, 3 red, 6 blue; 3 green, 6 red; 3 green, 15 blue, 14 red\n",
    "Game 5: 6 red, 1 blue, 3 green; 2 blue, 1 red, 2 green\"\"\""
   ]
  },
  {
   "cell_type": "code",
   "execution_count": 24,
   "id": "3ad36275-a8bb-49c6-b979-322351dc61c8",
   "metadata": {},
   "outputs": [],
   "source": [
    "def supersearch(regex, string):\n",
    "    found = re.search(regex, string)\n",
    "    if found is None:\n",
    "        return [0,0]\n",
    "    return found"
   ]
  },
  {
   "cell_type": "code",
   "execution_count": 38,
   "id": "2e2e5b51-ed2b-4797-a1b5-655397d56537",
   "metadata": {},
   "outputs": [
    {
     "ename": "NameError",
     "evalue": "name 'power_sum' is not defined",
     "output_type": "error",
     "traceback": [
      "\u001b[1;31m---------------------------------------------------------------------------\u001b[0m",
      "\u001b[1;31mNameError\u001b[0m                                 Traceback (most recent call last)",
      "Cell \u001b[1;32mIn[38], line 28\u001b[0m\n\u001b[0;32m     25\u001b[0m         \u001b[38;5;28;01mif\u001b[39;00m max_red \u001b[38;5;241m<\u001b[39m\u001b[38;5;241m=\u001b[39m \u001b[38;5;241m12\u001b[39m \u001b[38;5;129;01mand\u001b[39;00m max_blue \u001b[38;5;241m<\u001b[39m\u001b[38;5;241m=\u001b[39m \u001b[38;5;241m14\u001b[39m \u001b[38;5;129;01mand\u001b[39;00m max_green \u001b[38;5;241m<\u001b[39m\u001b[38;5;241m=\u001b[39m \u001b[38;5;241m13\u001b[39m:\n\u001b[0;32m     26\u001b[0m             game_sum \u001b[38;5;241m+\u001b[39m\u001b[38;5;241m=\u001b[39m game_num\n\u001b[1;32m---> 28\u001b[0m         \u001b[43mpower_sum\u001b[49m \u001b[38;5;241m+\u001b[39m\u001b[38;5;241m=\u001b[39m max_red\u001b[38;5;241m*\u001b[39mmax_blue\u001b[38;5;241m*\u001b[39mmax_green\n\u001b[0;32m     30\u001b[0m game_sum           \n\u001b[0;32m     31\u001b[0m power_sum\n",
      "\u001b[1;31mNameError\u001b[0m: name 'power_sum' is not defined"
     ]
    }
   ],
   "source": [
    "game_num_regex = r\"Game ([0-9]+):\"\n",
    "game_sum = 0\n",
    "red_regex = r'([0-9]+) red'\n",
    "blue_regex = r'([0-9]+) blue'\n",
    "green_regex = r'([0-9]+) green'\n",
    "\n",
    "#for line in test.splitlines():\n",
    "\n",
    "power_sun = 0\n",
    "\n",
    "with open(\"day2.txt\") as data:\n",
    "    for line in data.readlines():   \n",
    "        game_num = int( re.match(game_num_regex, line)[1] )    \n",
    "        max_red, max_green, max_blue = 0,0,0\n",
    "    \n",
    "        for game in line.split(\";\"):\n",
    "            red = int (supersearch(red_regex, game)[1])\n",
    "            blue = int (supersearch(blue_regex, game)[1])\n",
    "            green = int (supersearch(green_regex, game)[1])\n",
    "    \n",
    "            max_red = max(red, max_red)\n",
    "            max_blue = max(blue, max_blue)\n",
    "            max_green = max(green, max_green)\n",
    "\n",
    "        if max_red <= 12 and max_blue <= 14 and max_green <= 13:\n",
    "            game_sum += game_num\n",
    "\n",
    "        power_sum += max_red*max_blue*max_green\n",
    "\n",
    "game_sum           \n",
    "power_sum\n",
    "        \n",
    "    "
   ]
  },
  {
   "cell_type": "code",
   "execution_count": null,
   "id": "cf5da2d8-15e9-452e-b8d1-776c57547e5b",
   "metadata": {},
   "outputs": [],
   "source": []
  },
  {
   "cell_type": "code",
   "execution_count": null,
   "id": "3a7cf4f7-bd0a-4eee-9b89-373929432df0",
   "metadata": {},
   "outputs": [],
   "source": []
  },
  {
   "cell_type": "code",
   "execution_count": null,
   "id": "14bd924a-31c2-419f-bf80-5281cfaf1214",
   "metadata": {},
   "outputs": [],
   "source": []
  },
  {
   "cell_type": "code",
   "execution_count": null,
   "id": "300d63e6-313c-49ca-870d-da1f9e17f5d1",
   "metadata": {},
   "outputs": [],
   "source": []
  },
  {
   "cell_type": "code",
   "execution_count": null,
   "id": "0c826f56-aef2-4e3f-9ca9-0f2321a9438e",
   "metadata": {},
   "outputs": [],
   "source": []
  },
  {
   "cell_type": "code",
   "execution_count": null,
   "id": "543fc92d-3204-4c95-9647-b37bf0f9cd49",
   "metadata": {},
   "outputs": [],
   "source": []
  },
  {
   "cell_type": "code",
   "execution_count": null,
   "id": "6769d331-621a-44f5-b45d-af0b874746d6",
   "metadata": {},
   "outputs": [],
   "source": [
    "with open('day1.txt') as file:\n",
    "    for line in file.readlines():\n",
    "        value = parse_line(line)\n",
    "        all_values.append(int(value))\n",
    "print(sum(all_values))"
   ]
  }
 ],
 "metadata": {
  "kernelspec": {
   "display_name": "Python 3 (ipykernel)",
   "language": "python",
   "name": "python3"
  },
  "language_info": {
   "codemirror_mode": {
    "name": "ipython",
    "version": 3
   },
   "file_extension": ".py",
   "mimetype": "text/x-python",
   "name": "python",
   "nbconvert_exporter": "python",
   "pygments_lexer": "ipython3",
   "version": "3.12.0"
  }
 },
 "nbformat": 4,
 "nbformat_minor": 5
}
